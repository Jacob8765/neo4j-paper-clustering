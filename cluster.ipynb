{
 "cells": [
  {
   "cell_type": "code",
   "execution_count": 19,
   "metadata": {},
   "outputs": [
    {
     "data": {
      "text/plain": [
       "True"
      ]
     },
     "execution_count": 19,
     "metadata": {},
     "output_type": "execute_result"
    }
   ],
   "source": [
    "from dotenv import load_dotenv\n",
    "import os\n",
    "import numpy as np\n",
    "import matplotlib.pyplot as plt\n",
    "from neo4j import GraphDatabase\n",
    "\n",
    "load_dotenv()"
   ]
  },
  {
   "cell_type": "code",
   "execution_count": 20,
   "metadata": {},
   "outputs": [
    {
     "data": {
      "text/plain": [
       "('bolt://localhost:7687', 'neo4j', '123456789')"
      ]
     },
     "execution_count": 20,
     "metadata": {},
     "output_type": "execute_result"
    }
   ],
   "source": [
    "os.getenv(\"NEO4J_URI\"), os.getenv(\"NEO4J_USER\"), os.getenv(\"NEO4J_PASS\")"
   ]
  },
  {
   "cell_type": "code",
   "execution_count": null,
   "metadata": {},
   "outputs": [],
   "source": [
    "#OUTLINE:\n",
    "#1. Connect to the database\n",
    "#2. Get the data\n",
    "#2. Check for the existing centroids (this can happen if partial clustering has been done)\n",
    "#3. Initialize K-Means on all the data, setting the initial centroids to the existing centroids\n",
    "#4. Run K-Means until convergence\n",
    "#5. Save the centroids to the database\n",
    "#6. For nodes that didn't have a relationship to a cluster before, add them. \n",
    "#7. For each centroid, compute its \"title\" property by taking the embeddings of the n-closest nodes and averaging them"
   ]
  },
  {
   "cell_type": "code",
   "execution_count": 35,
   "metadata": {},
   "outputs": [],
   "source": [
    "driver = GraphDatabase.driver(\"neo4j://localhost:7687\", auth=(\"neo4j\", \"password\"))\n",
    "driver.get_server_info()"
   ]
  },
  {
   "cell_type": "code",
   "execution_count": 37,
   "metadata": {},
   "outputs": [
    {
     "data": {
      "text/plain": [
       "[]"
      ]
     },
     "execution_count": 37,
     "metadata": {},
     "output_type": "execute_result"
    }
   ],
   "source": [
    "CIPHR = \"\"\"\n",
    "MATCH (a:Article)\n",
    "return a\n",
    "\"\"\"\n",
    "\n",
    "def get_data():\n",
    "    with driver.session() as session:\n",
    "        result = session.run(CIPHR)\n",
    "        return result.data()\n",
    "    \n",
    "get_data()"
   ]
  }
 ],
 "metadata": {
  "kernelspec": {
   "display_name": "venv",
   "language": "python",
   "name": "python3"
  },
  "language_info": {
   "codemirror_mode": {
    "name": "ipython",
    "version": 3
   },
   "file_extension": ".py",
   "mimetype": "text/x-python",
   "name": "python",
   "nbconvert_exporter": "python",
   "pygments_lexer": "ipython3",
   "version": "3.11.3"
  }
 },
 "nbformat": 4,
 "nbformat_minor": 2
}
